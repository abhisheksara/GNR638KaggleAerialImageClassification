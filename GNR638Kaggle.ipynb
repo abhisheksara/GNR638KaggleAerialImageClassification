{
  "nbformat": 4,
  "nbformat_minor": 0,
  "metadata": {
    "accelerator": "GPU",
    "colab": {
      "name": "GNR638Kaggle.ipynb",
      "provenance": [],
      "collapsed_sections": []
    },
    "kernelspec": {
      "display_name": "Python 3",
      "name": "python3"
    }
  },
  "cells": [
    {
      "cell_type": "markdown",
      "metadata": {
        "id": "EbiV7XAwJEve"
      },
      "source": [
        "<h1>Classifcation of Aerial Images</h1>\n",
        "In this noteboook, I have trained a convolutional neural network to classify satellite images into 7 classes.<br>\n",
        "The dataset used for training consists of 80 images per class. "
      ]
    },
    {
      "cell_type": "code",
      "metadata": {
        "id": "1q04A0J_nBI3",
        "colab": {
          "background_save": true
        }
      },
      "source": [
        "import cv2\n",
        "import os\n",
        "import numpy as np\n",
        "from random import shuffle\n",
        "from tqdm import tqdm\n",
        "import tarfile\n",
        "import matplotlib.pyplot as plt\n",
        "import tensorflow as tf\n",
        "import keras\n",
        "L = keras.layers\n",
        "K = keras.backend\n",
        "from keras.preprocessing.image import ImageDataGenerator"
      ],
      "execution_count": null,
      "outputs": []
    },
    {
      "cell_type": "markdown",
      "metadata": {
        "id": "DZim0Aa8F4O8"
      },
      "source": [
        "<h1>Load train and test sets<h1>"
      ]
    },
    {
      "cell_type": "code",
      "metadata": {
        "id": "vVz7bDpJoXIL"
      },
      "source": [
        "IMG_SIZE = 128\n",
        "TRAIN_DIR = r\"/content/train\"\n",
        "TEST_DIR = r\"/content/test_set\"\n",
        "\n",
        "with tarfile.open('test_set.tar.xz', 'r:xz') as tar:\n",
        "    tar.extractall()\n",
        "with tarfile.open('train.tar.xz', 'r:xz') as tar:\n",
        "    tar.extractall()\n",
        "    \n",
        "classes = ['basketball_court', 'beach', 'forest', 'railway', 'tennis_court', 'swimming_pool', 'others']\n",
        "\n",
        "def create_training_data():\n",
        "    training_data=[]\n",
        "    for class_folder in tqdm(os.listdir(TRAIN_DIR)):\n",
        "      cur_class = class_folder \n",
        "      label = [1 if cur_class==target_class else 0 for target_class in classes]\n",
        "      class_folder_path = os.path.join(TRAIN_DIR,class_folder)\n",
        "      for img_file in os.listdir(class_folder_path):\n",
        "        img_path = os.path.join(class_folder_path,img_file)\n",
        "        \n",
        "        img = cv2.imread(img_path, cv2.IMREAD_COLOR)\n",
        "        img = cv2.resize(img, (IMG_SIZE,IMG_SIZE))\n",
        "\n",
        "        training_data.append([np.array(img),np.array(label)])\n",
        "    return training_data\n",
        "    \n",
        "def create_test_data():\n",
        "    test_data=[]\n",
        "    for img_file in os.listdir(TEST_DIR):\n",
        "      img_path = os.path.join(TEST_DIR,img_file)\n",
        "      \n",
        "      img_id = img_file.split('.')[0]\n",
        "      img = cv2.imread(img_path, cv2.IMREAD_COLOR)\n",
        "      img = cv2.resize(img, (IMG_SIZE,IMG_SIZE))\n",
        "\n",
        "      test_data.append([img_id, np.array(img)])\n",
        "    return test_data\n",
        "train_data = create_training_data()\n",
        "test_data = create_test_data()"
      ],
      "execution_count": null,
      "outputs": []
    },
    {
      "cell_type": "markdown",
      "metadata": {
        "id": "M37DvNjCPMbj"
      },
      "source": [
        "<h1>Creating training and validation set<h1>"
      ]
    },
    {
      "cell_type": "code",
      "metadata": {
        "id": "pByGfA3TPyLv"
      },
      "source": [
        "shuffle(train_data)\n",
        "X = np.array([i[0] for i in train_data]).reshape(-1,IMG_SIZE,IMG_SIZE,3)\n",
        "y = np.array([i[1] for i in train_data]).reshape(-1,7)\n",
        "y_classes = np.array([np.argmax(i[1]) for i in train_data])"
      ],
      "execution_count": null,
      "outputs": []
    },
    {
      "cell_type": "code",
      "metadata": {
        "id": "E7j2GkLetzRz",
        "outputId": "4e04df2d-a8d7-4aa3-c01c-f151b95c8f69",
        "colab": {
          "base_uri": "https://localhost:8080/",
          "height": 362
        }
      },
      "source": [
        "plt.hist(y_classes, bins=14)"
      ],
      "execution_count": null,
      "outputs": [
        {
          "output_type": "execute_result",
          "data": {
            "text/plain": [
              "(array([80.,  0., 80.,  0., 80.,  0.,  0., 80.,  0., 80.,  0., 80.,  0.,\n",
              "        80.]),\n",
              " array([0.        , 0.42857143, 0.85714286, 1.28571429, 1.71428571,\n",
              "        2.14285714, 2.57142857, 3.        , 3.42857143, 3.85714286,\n",
              "        4.28571429, 4.71428571, 5.14285714, 5.57142857, 6.        ]),\n",
              " <a list of 14 Patch objects>)"
            ]
          },
          "metadata": {
            "tags": []
          },
          "execution_count": 19
        },
        {
          "output_type": "display_data",
          "data": {
            "image/png": "[encoded data removed]",
            "text/plain": [
              "<Figure size 432x288 with 1 Axes>"
            ]
          },
          "metadata": {
            "tags": []
          }
        }
      ]
    },
    {
      "cell_type": "code",
      "metadata": {
        "id": "snxiCR16PxXs"
      },
      "source": [
        "#Splitting unnormalized data\n",
        "X_train_unnorm, y_train = X[:int(0.8*train_len)].reshape(-1,IMG_SIZE,IMG_SIZE,3), y[:int(0.8*train_len)]\n",
        "X_val_unnorm, y_val = X[int(0.8*train_len):].reshape(-1,IMG_SIZE,IMG_SIZE,3), y[int(0.8*train_len):]\n",
        "X_test_unnorm = np.array([i[1] for i in test_data]).reshape(-1,IMG_SIZE,IMG_SIZE,3)"
      ],
      "execution_count": null,
      "outputs": []
    },
    {
      "cell_type": "code",
      "metadata": {
        "id": "lU1KqQc9LUBN",
        "outputId": "5f166d67-56d9-4d6c-ac74-6f3b7373e58b",
        "colab": {
          "base_uri": "https://localhost:8080/",
          "height": 33
        }
      },
      "source": [
        "#Compute mean and std \n",
        "X_train_mean = np.mean(np.mean(X_train_unnorm, axis=0), axis=(0,1))\n",
        "X_train_dev = np.std(X_train_unnorm, axis=(0,1,2))\n",
        "#Normalizing data\n",
        "X_train_norm = (X_train_unnorm-X_train_mean)/X_train_dev\n",
        "X_val_norm = (X_val_unnorm-X_train_mean)/X_train_dev\n",
        "X_test_norm = (X_test_unnorm-X_train_mean)/X_train_dev"
      ],
      "execution_count": null,
      "outputs": [
        {
          "output_type": "execute_result",
          "data": {
            "text/plain": [
              "array([84.32553866, 92.67003838, 89.00964827])"
            ]
          },
          "metadata": {
            "tags": []
          },
          "execution_count": 28
        }
      ]
    },
    {
      "cell_type": "code",
      "metadata": {
        "id": "OwcAE8-SMgEa"
      },
      "source": [
        "#create augmented data generator\n",
        "train_datagen = ImageDataGenerator(rotation_range=90,\n",
        "                            rescale=1,\n",
        "                            zoom_range=[0.4,1.5],\n",
        "                            width_shift_range = 0.3,\n",
        "                            height_shift_range = 0.3,\n",
        "                            horizontal_flip=True,\n",
        "                            vertical_flip=True,\n",
        "                            fill_mode='nearest')\n",
        "train_it = train_datagen.flow(X_train_norm, y_train)"
      ],
      "execution_count": null,
      "outputs": []
    },
    {
      "cell_type": "code",
      "metadata": {
        "id": "DKa5fqVcUkbG"
      },
      "source": [
        "from keras.models import Sequential\n",
        "from keras.layers import Conv2D, MaxPooling2D, Flatten, Dense, Activation, Dropout\n",
        "from keras.layers.advanced_activations import LeakyReLU\n",
        "from keras.regularizers import l2"
      ],
      "execution_count": null,
      "outputs": []
    },
    {
      "cell_type": "code",
      "metadata": {
        "id": "oRL4ox43Swpv"
      },
      "source": [
        "def net():\n",
        "    model = Sequential()\n",
        "\n",
        "    model.add(Conv2D(16, (3,3), padding='same', input_shape=(IMG_SIZE,IMG_SIZE,3)))\n",
        "    model.add(LeakyReLU(0.1))\n",
        "\n",
        "    model.add(MaxPooling2D(pool_size=(2,2)))\n",
        "    model.add(Dropout(0.25))\n",
        "\n",
        "    model.add(Conv2D(32, (3,3), padding='same'))\n",
        "    model.add(LeakyReLU(0.1))\n",
        "    \n",
        "    model.add(MaxPooling2D(pool_size=(2,2)))\n",
        "    model.add(Dropout(0.25))\n",
        "\n",
        "    model.add(Conv2D(64, (3,3), padding='same'))\n",
        "    model.add(LeakyReLU(0.1))\n",
        "\n",
        "    model.add(MaxPooling2D(pool_size=(2,2)))\n",
        "    model.add(Dropout(0.25))\n",
        "\n",
        "    model.add(Conv2D(128, (3,3), padding='same'))\n",
        "    model.add(LeakyReLU(0.1))\n",
        "\n",
        "    model.add(MaxPooling2D(pool_size=(2,2)))\n",
        "    model.add(Dropout(0.25))\n",
        "\n",
        "    model.add(Flatten())\n",
        "\n",
        "    model.add(Dense(64))\n",
        "    model.add(Dropout(0.25))\n",
        "    model.add(LeakyReLU(0.1))\n",
        "\n",
        "    model.add(Dense(7))\n",
        "    model.add(Activation('softmax'))\n",
        "    return model"
      ],
      "execution_count": null,
      "outputs": []
    },
    {
      "cell_type": "code",
      "metadata": {
        "id": "vgPZy75wVZqH"
      },
      "source": [
        "tf.keras.backend.clear_session()\n",
        "net1 = net()\n",
        "net1.summary()"
      ],
      "execution_count": null,
      "outputs": []
    },
    {
      "cell_type": "code",
      "metadata": {
        "id": "Gm6BracQVbuT"
      },
      "source": [
        "INIT_LR = 1e-2  # initial learning rate\n",
        "BATCH_SIZE = 32\n",
        "EPOCHS = 75\n",
        "\n",
        "opt = keras.optimizers.SGD(\n",
        "    learning_rate=INIT_LR, momentum=0.9, nesterov=False, name=\"SGD\",\n",
        ")\n",
        "net1.compile(\n",
        "    loss='categorical_crossentropy',\n",
        "    optimizer=opt,\n",
        "    metrics=[tf.keras.metrics.CategoricalAccuracy()]\n",
        ")\n",
        "\n",
        "def lr_scheduler(epoch):\n",
        "    return INIT_LR * 0.95 ** epoch\n",
        "\n",
        "class LrHistory(keras.callbacks.Callback):\n",
        "    def on_epoch_begin(self, epoch, logs={}):\n",
        "        print(\"Learning rate:\", K.get_value(net1.optimizer.lr))"
      ],
      "execution_count": null,
      "outputs": []
    },
    {
      "cell_type": "code",
      "metadata": {
        "id": "A4faemw9XFrP"
      },
      "source": [
        "# fit model\n",
        "history = net1.fit(\n",
        "    train_it,  # augmented data generator\n",
        "    batch_size=BATCH_SIZE,\n",
        "    epochs=300,\n",
        "    callbacks = [keras.callbacks.LearningRateScheduler(lr_scheduler)],\n",
        "    validation_data=(X_val_norm, y_val)\n",
        ")"
      ],
      "execution_count": null,
      "outputs": []
    },
    {
      "cell_type": "code",
      "metadata": {
        "id": "Wlqmkb7QIhcg"
      },
      "source": [
        "plt.plot(history.history['loss'])\n",
        "plt.plot(history.history['val_loss'])"
      ],
      "execution_count": null,
      "outputs": []
    },
    {
      "cell_type": "code",
      "metadata": {
        "id": "1rnpG76CxeH_",
        "outputId": "0dae83c6-ab04-45f2-a62c-e6547847722b",
        "colab": {
          "base_uri": "https://localhost:8080/",
          "height": 33
        }
      },
      "source": [
        "with open('180070052.csv','w') as f:\n",
        "    f.write('ImageID,Label\\n')\n",
        "            \n",
        "with open('180070052.csv','a') as f:\n",
        "    for data in tqdm(test_data):\n",
        "        img_id = data[0]\n",
        "        img_data = np.array(data[1])\n",
        "        orig = img_data\n",
        "        data = img_data.reshape(IMG_SIZE,IMG_SIZE,3)\n",
        "        data_norm = (np.array([data])-X_train_mean)/X_train_dev\n",
        "        output = net1.predict(data_norm)[0]\n",
        "        pred_class = np.argmax(output)+1\n",
        "        f.write('{},{}\\n'.format(img_id, pred_class))"
      ],
      "execution_count": null,
      "outputs": [
        {
          "output_type": "stream",
          "text": [
            "100%|██████████| 95/95 [00:02<00:00, 31.90it/s]\n"
          ],
          "name": "stderr"
        }
      ]
    },
    {
      "cell_type": "code",
      "metadata": {
        "id": "rcwPtJO832Ks"
      },
      "source": [
        "preds_test = net1.predict(X_test_norm)\n",
        "preds_val = net1.predict(X_val_norm)\n",
        "preds_train = net1.predict(X_train_norm)"
      ],
      "execution_count": null,
      "outputs": []
    },
    {
      "cell_type": "code",
      "metadata": {
        "id": "m2gTdxq6pxJx"
      },
      "source": [
        "cols = 8\n",
        "rows = 2\n",
        "fig = plt.figure(figsize=(2 * cols - 1, 2.5 * rows - 1))\n",
        "for i in range(cols):\n",
        "    for j in range(rows):\n",
        "        random_index = np.random.randint(0, X_train_unnorm.shape[0])\n",
        "        ax = fig.add_subplot(rows, cols, i * rows + j + 1)\n",
        "        ax.grid('off')\n",
        "        ax.axis('off')\n",
        "        ax.imshow(X_train_unnorm[random_index, :])\n",
        "        str_label = str(classes[np.argmax(preds_train[random_index])])\n",
        "        plt.title(str_label)\n",
        "plt.show()"
      ],
      "execution_count": null,
      "outputs": []
    },
    {
      "cell_type": "code",
      "metadata": {
        "id": "yIDGZBHTtMy4"
      },
      "source": [
        "cols = 8\n",
        "rows = 2\n",
        "fig = plt.figure(figsize=(2 * cols - 1, 2.5 * rows - 1))\n",
        "for i in range(cols):\n",
        "    for j in range(rows):\n",
        "        random_index = np.random.randint(0, X_val_unnorm.shape[0])\n",
        "        ax = fig.add_subplot(rows, cols, i * rows + j + 1)\n",
        "        ax.grid('off')\n",
        "        ax.axis('off')\n",
        "        ax.imshow(X_val_unnorm[random_index, :])\n",
        "        str_label = str(classes[np.argmax(preds_val[random_index])])\n",
        "        plt.title(str_label)\n",
        "plt.show()"
      ],
      "execution_count": null,
      "outputs": []
    },
    {
      "cell_type": "code",
      "metadata": {
        "id": "1kvE1tYbrJUO"
      },
      "source": [
        "cols = 5\n",
        "rows = 16\n",
        "fig = plt.figure(figsize=(2 * cols - 1, 2.5 * rows - 1))\n",
        "for i in range(cols):\n",
        "    for j in range(rows):\n",
        "        random_index = np.random.randint(0, X_test_unnorm.shape[0])\n",
        "        ax = fig.add_subplot(rows, cols, i * rows + j + 1)\n",
        "        ax.grid('off')\n",
        "        ax.axis('off')\n",
        "        ax.imshow(X_test_unnorm[rows*i+j, :])\n",
        "        str_label = str(classes[np.argmax(preds_test[rows*i+j])])\n",
        "        plt.title(str_label)\n",
        "plt.show()"
      ],
      "execution_count": null,
      "outputs": []
    }
  ]
}